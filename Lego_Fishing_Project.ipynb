{
 "cells": [
  {
   "cell_type": "code",
   "execution_count": null,
   "id": "ca8f24f1",
   "metadata": {},
   "outputs": [],
   "source": [
    "%matplotlib inline\n",
    "import cv2\n",
    "import numpy as np\n",
    "from matplotlib import pyplot as plt\n",
    "import os"
   ]
  },
  {
   "cell_type": "code",
   "execution_count": null,
   "id": "ceb6fe9f",
   "metadata": {},
   "outputs": [],
   "source": [
    "I = cv2.imread('lego_2.png')\n",
    "I_rgb = cv2.cvtColor(I, cv2.COLOR_BGR2RGB)\n",
    "\n",
    "if I is None:\n",
    "    print(\"Error: Could not load image. Check file path and format.\")\n",
    "    exit()\n",
    "    \n",
    "plt.imshow(I_rgb)\n",
    "plt.show()"
   ]
  },
  {
   "cell_type": "code",
   "execution_count": null,
   "id": "01e63d9a",
   "metadata": {},
   "outputs": [],
   "source": [
    "# Grayscale + blur\n",
    "I_gray = cv2.cvtColor(I, cv2.COLOR_BGR2GRAY)\n",
    "I_blur = cv2.GaussianBlur(I_gray, (5,5), 0)\n",
    "\n",
    "# Adaptive threshold\n",
    "#Converted to black and white\n",
    "B = cv2.adaptiveThreshold(\n",
    "    I_blur, 255,\n",
    "    cv2.ADAPTIVE_THRESH_GAUSSIAN_C,\n",
    "    cv2.THRESH_BINARY_INV,\n",
    "    19, 2\n",
    ")\n",
    "\n",
    "# Morphology\n",
    "kernel = np.ones((3,3), np.uint8)\n",
    "#close = fill small holes\n",
    "#open = removes small white noise outside objects\n",
    "B_clean = cv2.morphologyEx(B, cv2.MORPH_CLOSE, kernel, iterations=2) \n",
    "B_clean = cv2.morphologyEx(B_clean, cv2.MORPH_OPEN, kernel, iterations=1)\n",
    "\n",
    "# Find contours\n",
    "contours, hierarchy = cv2.findContours(B_clean, cv2.RETR_EXTERNAL, cv2.CHAIN_APPROX_SIMPLE)\n",
    "\n",
    "# Filter contours by area to get only LEGO blocks\n",
    "min_area = 800\n",
    "lego_contours = [cnt for cnt in contours if cv2.contourArea(cnt) > min_area]\n",
    "\n",
    "print(f\"Total number of LEGO blocks detected: {len(lego_contours)}\")\n",
    "\n",
    "# Create filled mask visualization\n",
    "I_filled = np.ones_like(I_rgb) * 255  # white background\n",
    "cv2.drawContours(I_filled, lego_contours, -1, (0, 0, 0), thickness=cv2.FILLED)\n",
    "\n",
    "plt.figure(figsize=(12,6))\n",
    "plt.subplot(1,3,1)\n",
    "plt.imshow(I_rgb)\n",
    "plt.title('Original Image')\n",
    "\n",
    "plt.subplot(1,3,2)\n",
    "plt.imshow(I_gray, cmap='gray')\n",
    "plt.title(\"Gray Scale\")\n",
    "\n",
    "plt.subplot(1,3,3)\n",
    "plt.imshow(I_filled)\n",
    "plt.title(f\"LEGO Blocks Filled Mask ({len(lego_contours)} blocks)\")\n",
    "plt.show()"
   ]
  },
  {
   "cell_type": "code",
   "execution_count": null,
   "id": "132f59c1",
   "metadata": {},
   "outputs": [],
   "source": [
    "# Calculate grid size for displaying all blocks\n",
    "num_blocks = len(lego_contours)\n",
    "cols = 4  # Display 4 blocks per row\n",
    "rows = (num_blocks + cols - 1) // cols  # Calculate needed rows\n",
    "plt.figure(figsize=(15, 3*rows))\n",
    "\n",
    "#Looping through each LEGO block\n",
    "for idx, contour in enumerate(lego_contours, 1):\n",
    "    # Get bounding box\n",
    "    x, y, w, h = cv2.boundingRect(contour)\n",
    "    \n",
    "    # Add padding\n",
    "    padding = 5\n",
    "    y_min = max(0, y - padding) #Don't go below 0\n",
    "    y_max = min(I_rgb.shape[0], y + h + padding) #Image height cannot be exceeded\n",
    "    x_min = max(0, x - padding) #Don't go left of 0\n",
    "    x_max = min(I_rgb.shape[1], x + w + padding) #Image width cannot be exceeded\n",
    "    \n",
    "    # Create mask directly in the cropped region size\n",
    "    mask_region = np.zeros((y_max - y_min, x_max - x_min), dtype=np.uint8)\n",
    "    \n",
    "    # Adjust contour coordinates to the cropped region\n",
    "    contour_shifted = contour - [x_min, y_min]\n",
    "    cv2.drawContours(mask_region, [contour_shifted], -1, 255, thickness=cv2.FILLED)\n",
    "    \n",
    "    # Extract the block region from original image\n",
    "    block_original = I_rgb[y_min:y_max, x_min:x_max].copy()\n",
    "    \n",
    "    # Create a white background version\n",
    "    block_display = np.ones_like(block_original) * 255\n",
    "    block_display[mask_region > 0] = block_original[mask_region > 0]\n",
    "    \n",
    "    # Display\n",
    "    plt.subplot(rows, cols, idx)\n",
    "    plt.imshow(block_display)\n",
    "    plt.title(f\"Block {idx}\")\n",
    "    plt.axis('off')\n",
    "\n",
    "plt.tight_layout()\n",
    "plt.show()"
   ]
  },
  {
   "cell_type": "code",
   "execution_count": null,
   "id": "5eae1b8c",
   "metadata": {},
   "outputs": [],
   "source": [
    "#test commit :)"
   ]
  },
  {
   "cell_type": "code",
   "execution_count": null,
   "id": "cb766ed0",
   "metadata": {},
   "outputs": [],
   "source": [
    "print('Test')"
   ]
  }
 ],
 "metadata": {
  "kernelspec": {
   "display_name": "Python 3",
   "language": "python",
   "name": "python3"
  },
  "language_info": {
   "codemirror_mode": {
    "name": "ipython",
    "version": 3
   },
   "file_extension": ".py",
   "mimetype": "text/x-python",
   "name": "python",
   "nbconvert_exporter": "python",
   "pygments_lexer": "ipython3",
   "version": "3.10.8"
  }
 },
 "nbformat": 4,
 "nbformat_minor": 5
}
